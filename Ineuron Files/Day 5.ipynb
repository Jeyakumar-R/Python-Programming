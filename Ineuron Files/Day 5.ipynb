{
 "cells": [
  {
   "cell_type": "code",
   "execution_count": 2,
   "id": "1d3a8889",
   "metadata": {},
   "outputs": [],
   "source": [
    "#filter"
   ]
  },
  {
   "cell_type": "code",
   "execution_count": 3,
   "id": "e305c203",
   "metadata": {},
   "outputs": [],
   "source": [
    "def even(n):\n",
    "    if n%2 == 0:\n",
    "        return True"
   ]
  },
  {
   "cell_type": "code",
   "execution_count": 8,
   "id": "95192d88",
   "metadata": {},
   "outputs": [],
   "source": [
    "lst = [1,2,3,4,5,6,7,8,9,10]"
   ]
  },
  {
   "cell_type": "code",
   "execution_count": 9,
   "id": "4964ca9b",
   "metadata": {},
   "outputs": [
    {
     "data": {
      "text/plain": [
       "[2, 4, 6, 8, 10]"
      ]
     },
     "execution_count": 9,
     "metadata": {},
     "output_type": "execute_result"
    }
   ],
   "source": [
    "list(filter(lambda x:x%2==0,lst))"
   ]
  },
  {
   "cell_type": "code",
   "execution_count": 6,
   "id": "003a2207",
   "metadata": {},
   "outputs": [
    {
     "data": {
      "text/plain": [
       "[False, True, False, True, False, True, False, True, False, True]"
      ]
     },
     "execution_count": 6,
     "metadata": {},
     "output_type": "execute_result"
    }
   ],
   "source": [
    "list(map(lambda x:x%2==0,lst))"
   ]
  },
  {
   "cell_type": "code",
   "execution_count": 10,
   "id": "9511ad85",
   "metadata": {},
   "outputs": [
    {
     "name": "stdout",
     "output_type": "stream",
     "text": [
      "[2, 4, 6, 8]\n"
     ]
    }
   ],
   "source": [
    "l = [1,2,3,4,5,6,7,8,9]\n",
    "\n",
    "print(list(filter(lambda x:x%2==0,l)))"
   ]
  },
  {
   "cell_type": "code",
   "execution_count": 11,
   "id": "5f939e6f",
   "metadata": {},
   "outputs": [],
   "source": [
    "a = lambda x:x%2==0"
   ]
  },
  {
   "cell_type": "code",
   "execution_count": 12,
   "id": "8da3f5df",
   "metadata": {},
   "outputs": [
    {
     "name": "stdout",
     "output_type": "stream",
     "text": [
      "[2, 4, 6, 8]\n"
     ]
    }
   ],
   "source": [
    "l = [1,2,3,4,5,6,7,8,9]\n",
    "\n",
    "print(list(filter(a,l)))"
   ]
  },
  {
   "cell_type": "code",
   "execution_count": 13,
   "id": "0ab629f8",
   "metadata": {},
   "outputs": [
    {
     "data": {
      "text/plain": [
       "[2, 4, 6, 8]"
      ]
     },
     "execution_count": 13,
     "metadata": {},
     "output_type": "execute_result"
    }
   ],
   "source": [
    "list(filter(a,l))"
   ]
  },
  {
   "cell_type": "code",
   "execution_count": 14,
   "id": "24dcc8bf",
   "metadata": {},
   "outputs": [],
   "source": [
    "#OOPS concept"
   ]
  },
  {
   "cell_type": "code",
   "execution_count": 15,
   "id": "49ef3545",
   "metadata": {},
   "outputs": [],
   "source": [
    "def mystery(l):\n",
    "    if l == []:\n",
    "        return(l)\n",
    "    else:\n",
    "        return(mystery(l[1:])+l[:1])"
   ]
  },
  {
   "cell_type": "code",
   "execution_count": 16,
   "id": "d49355c6",
   "metadata": {},
   "outputs": [
    {
     "data": {
      "text/plain": [
       "[45, 92, 57, 18, 34, 22]"
      ]
     },
     "execution_count": 16,
     "metadata": {},
     "output_type": "execute_result"
    }
   ],
   "source": [
    "mystery([22,34,18,57,92,45])"
   ]
  },
  {
   "cell_type": "code",
   "execution_count": 17,
   "id": "3a64f7c0",
   "metadata": {},
   "outputs": [],
   "source": [
    "i = 10"
   ]
  },
  {
   "cell_type": "code",
   "execution_count": 18,
   "id": "051f8ef2",
   "metadata": {},
   "outputs": [
    {
     "data": {
      "text/plain": [
       "int"
      ]
     },
     "execution_count": 18,
     "metadata": {},
     "output_type": "execute_result"
    }
   ],
   "source": [
    "type(i)"
   ]
  },
  {
   "cell_type": "code",
   "execution_count": 19,
   "id": "6aa5b9ad",
   "metadata": {},
   "outputs": [
    {
     "name": "stdout",
     "output_type": "stream",
     "text": [
      "<class 'int'>\n"
     ]
    }
   ],
   "source": [
    "print(type(i))"
   ]
  },
  {
   "cell_type": "code",
   "execution_count": 20,
   "id": "5796853d",
   "metadata": {},
   "outputs": [],
   "source": [
    "s  = \"jeya\""
   ]
  },
  {
   "cell_type": "code",
   "execution_count": 21,
   "id": "9446856d",
   "metadata": {},
   "outputs": [
    {
     "data": {
      "text/plain": [
       "str"
      ]
     },
     "execution_count": 21,
     "metadata": {},
     "output_type": "execute_result"
    }
   ],
   "source": [
    "type(s)"
   ]
  },
  {
   "cell_type": "code",
   "execution_count": 22,
   "id": "720f4207",
   "metadata": {},
   "outputs": [
    {
     "name": "stdout",
     "output_type": "stream",
     "text": [
      "<class 'str'>\n"
     ]
    }
   ],
   "source": [
    "print(type(s))"
   ]
  },
  {
   "cell_type": "code",
   "execution_count": 25,
   "id": "637e48a1",
   "metadata": {},
   "outputs": [],
   "source": [
    "class test:\n",
    "    pass"
   ]
  },
  {
   "cell_type": "code",
   "execution_count": 28,
   "id": "d1c4266c",
   "metadata": {},
   "outputs": [
    {
     "name": "stdout",
     "output_type": "stream",
     "text": [
      "<class '__main__.test'>\n"
     ]
    }
   ],
   "source": [
    "a = test()\n",
    "print(type(a))"
   ]
  },
  {
   "cell_type": "code",
   "execution_count": 29,
   "id": "99baae1f",
   "metadata": {},
   "outputs": [],
   "source": [
    "class tes:\n",
    "    pass \n",
    "b = tes()"
   ]
  },
  {
   "cell_type": "code",
   "execution_count": 38,
   "id": "3f84e83a",
   "metadata": {},
   "outputs": [],
   "source": [
    "b.name = 'jeya'\n",
    "b.age = 22\n",
    "b.yob = 1998\n",
    "\n",
    "c = tes()\n",
    "c.name = 'kumar'\n",
    "c.age = 23\n",
    "c.surname = 'jeya'"
   ]
  },
  {
   "cell_type": "code",
   "execution_count": 39,
   "id": "5e2a35dd",
   "metadata": {},
   "outputs": [
    {
     "name": "stdout",
     "output_type": "stream",
     "text": [
      "<__main__.tes object at 0x000001D6527DF5E0>\n"
     ]
    }
   ],
   "source": [
    "print(b)\n"
   ]
  },
  {
   "cell_type": "code",
   "execution_count": 40,
   "id": "6ef3cee9",
   "metadata": {},
   "outputs": [
    {
     "data": {
      "text/plain": [
       "'jeya'"
      ]
     },
     "execution_count": 40,
     "metadata": {},
     "output_type": "execute_result"
    }
   ],
   "source": [
    "b.name"
   ]
  },
  {
   "cell_type": "code",
   "execution_count": 41,
   "id": "2828ed59",
   "metadata": {},
   "outputs": [
    {
     "data": {
      "text/plain": [
       "'kumar'"
      ]
     },
     "execution_count": 41,
     "metadata": {},
     "output_type": "execute_result"
    }
   ],
   "source": [
    "c.name"
   ]
  },
  {
   "cell_type": "code",
   "execution_count": 42,
   "id": "59387924",
   "metadata": {},
   "outputs": [
    {
     "ename": "AttributeError",
     "evalue": "'tes' object has no attribute 'surname'",
     "output_type": "error",
     "traceback": [
      "\u001b[1;31m---------------------------------------------------------------------------\u001b[0m",
      "\u001b[1;31mAttributeError\u001b[0m                            Traceback (most recent call last)",
      "\u001b[1;32m<ipython-input-42-db03855c80cb>\u001b[0m in \u001b[0;36m<module>\u001b[1;34m\u001b[0m\n\u001b[1;32m----> 1\u001b[1;33m \u001b[0mb\u001b[0m\u001b[1;33m.\u001b[0m\u001b[0msurname\u001b[0m\u001b[1;33m\u001b[0m\u001b[1;33m\u001b[0m\u001b[0m\n\u001b[0m",
      "\u001b[1;31mAttributeError\u001b[0m: 'tes' object has no attribute 'surname'"
     ]
    }
   ],
   "source": [
    "b.surname"
   ]
  },
  {
   "cell_type": "code",
   "execution_count": 23,
   "id": "1c7c9acd",
   "metadata": {},
   "outputs": [],
   "source": [
    "class Person:\n",
    "    pass"
   ]
  },
  {
   "cell_type": "code",
   "execution_count": 24,
   "id": "5e042891",
   "metadata": {},
   "outputs": [],
   "source": [
    "jeya_kumar = Person()\n",
    "jeya_kumar.name = 'Jeya'\n",
    "jeya_kumar.surname = 'Kumar'\n",
    "jeya_kumar.year_of_birth = 1998"
   ]
  },
  {
   "cell_type": "code",
   "execution_count": 43,
   "id": "a1e9f002",
   "metadata": {},
   "outputs": [
    {
     "name": "stdout",
     "output_type": "stream",
     "text": [
      "<__main__.Person object at 0x000001D6527AFDF0>\n"
     ]
    }
   ],
   "source": [
    "print(jeya_kumar)"
   ]
  },
  {
   "cell_type": "code",
   "execution_count": 45,
   "id": "c4ed0be3",
   "metadata": {},
   "outputs": [
    {
     "name": "stdout",
     "output_type": "stream",
     "text": [
      "Jeya Kumar was born in 1998.\n"
     ]
    }
   ],
   "source": [
    "print(\"%s %s was born in %d.\" %\n",
    "     (jeya_kumar.name, jeya_kumar.surname, jeya_kumar.year_of_birth))"
   ]
  },
  {
   "cell_type": "code",
   "execution_count": 46,
   "id": "6887440d",
   "metadata": {},
   "outputs": [],
   "source": [
    "#To write claa in right way"
   ]
  },
  {
   "cell_type": "code",
   "execution_count": 69,
   "id": "5da4c8d9",
   "metadata": {},
   "outputs": [],
   "source": [
    "class Person:\n",
    "    def __init__(self, name, surname, year_of_birth):\n",
    "        self.name = name\n",
    "        self.surname = surname\n",
    "        self.year_of_birth = year_of_birth"
   ]
  },
  {
   "cell_type": "code",
   "execution_count": 70,
   "id": "6ca654c3",
   "metadata": {},
   "outputs": [],
   "source": [
    "a = Person('jeya','kumar',1998)"
   ]
  },
  {
   "cell_type": "code",
   "execution_count": 50,
   "id": "62083ba1",
   "metadata": {},
   "outputs": [
    {
     "data": {
      "text/plain": [
       "'jeya'"
      ]
     },
     "execution_count": 50,
     "metadata": {},
     "output_type": "execute_result"
    }
   ],
   "source": [
    "a.name"
   ]
  },
  {
   "cell_type": "code",
   "execution_count": 51,
   "id": "36843a2b",
   "metadata": {},
   "outputs": [
    {
     "data": {
      "text/plain": [
       "'kumar'"
      ]
     },
     "execution_count": 51,
     "metadata": {},
     "output_type": "execute_result"
    }
   ],
   "source": [
    "a.surname"
   ]
  },
  {
   "cell_type": "code",
   "execution_count": 52,
   "id": "90dff824",
   "metadata": {},
   "outputs": [
    {
     "data": {
      "text/plain": [
       "1998"
      ]
     },
     "execution_count": 52,
     "metadata": {},
     "output_type": "execute_result"
    }
   ],
   "source": [
    "a.year_of_birth"
   ]
  },
  {
   "cell_type": "code",
   "execution_count": 53,
   "id": "cb92b2f7",
   "metadata": {},
   "outputs": [],
   "source": [
    "b = Person('ramesh', 'kumar', 1999)"
   ]
  },
  {
   "cell_type": "code",
   "execution_count": 54,
   "id": "3b29a79f",
   "metadata": {},
   "outputs": [
    {
     "data": {
      "text/plain": [
       "'ramesh'"
      ]
     },
     "execution_count": 54,
     "metadata": {},
     "output_type": "execute_result"
    }
   ],
   "source": [
    "b.name"
   ]
  },
  {
   "cell_type": "code",
   "execution_count": 67,
   "id": "6e959bb2",
   "metadata": {},
   "outputs": [],
   "source": [
    "class Person:\n",
    "    def __init__(self, name, surname, year_of_birth):\n",
    "        self.name1 = name\n",
    "        self.surname = surname\n",
    "        self.year_of_birth = year_of_birth"
   ]
  },
  {
   "cell_type": "code",
   "execution_count": 58,
   "id": "f1ee717d",
   "metadata": {},
   "outputs": [
    {
     "ename": "AttributeError",
     "evalue": "'Person' object has no attribute 'name'",
     "output_type": "error",
     "traceback": [
      "\u001b[1;31m---------------------------------------------------------------------------\u001b[0m",
      "\u001b[1;31mAttributeError\u001b[0m                            Traceback (most recent call last)",
      "\u001b[1;32m<ipython-input-58-9945a631c1ff>\u001b[0m in \u001b[0;36m<module>\u001b[1;34m\u001b[0m\n\u001b[1;32m----> 1\u001b[1;33m \u001b[0ma\u001b[0m\u001b[1;33m.\u001b[0m\u001b[0mname\u001b[0m\u001b[1;33m\u001b[0m\u001b[1;33m\u001b[0m\u001b[0m\n\u001b[0m",
      "\u001b[1;31mAttributeError\u001b[0m: 'Person' object has no attribute 'name'"
     ]
    }
   ],
   "source": [
    "a.name"
   ]
  },
  {
   "cell_type": "code",
   "execution_count": 71,
   "id": "3121b192",
   "metadata": {},
   "outputs": [
    {
     "name": "stdout",
     "output_type": "stream",
     "text": [
      "<__main__.Person object at 0x000001D652980940>\n"
     ]
    }
   ],
   "source": [
    "print(a)"
   ]
  },
  {
   "cell_type": "code",
   "execution_count": 72,
   "id": "5c1253ef",
   "metadata": {},
   "outputs": [
    {
     "data": {
      "text/plain": [
       "<__main__.Person at 0x1d652980940>"
      ]
     },
     "execution_count": 72,
     "metadata": {},
     "output_type": "execute_result"
    }
   ],
   "source": [
    "a"
   ]
  },
  {
   "cell_type": "code",
   "execution_count": 59,
   "id": "9bb9ce5d",
   "metadata": {},
   "outputs": [
    {
     "data": {
      "text/plain": [
       "'jeya'"
      ]
     },
     "execution_count": 59,
     "metadata": {},
     "output_type": "execute_result"
    }
   ],
   "source": [
    "a.name1"
   ]
  },
  {
   "cell_type": "code",
   "execution_count": 96,
   "id": "d2ed3b77",
   "metadata": {},
   "outputs": [],
   "source": [
    "class Person:\n",
    "    def __init__(self, name, surname, year_of_birth):\n",
    "        self.name = name\n",
    "        self.surname = surname\n",
    "        self.year_of_birth = year_of_birth\n",
    "        \n",
    "    def age(self, current_year):\n",
    "        return current_year - a.year_of_birth\n",
    "    \n",
    "    def __str__(self): #It will return the same.\n",
    "        return \"%s %s was born in %d .\" % (self.name, self.surname, a.year_of_birth)"
   ]
  },
  {
   "cell_type": "code",
   "execution_count": 101,
   "id": "dafd703b",
   "metadata": {},
   "outputs": [],
   "source": [
    "a = Person(\"Jeya\", \"Kumar\", 1998)"
   ]
  },
  {
   "cell_type": "code",
   "execution_count": 62,
   "id": "77c3bc68",
   "metadata": {},
   "outputs": [
    {
     "name": "stdout",
     "output_type": "stream",
     "text": [
      "Jeya Kumar was born in 1998 .\n"
     ]
    }
   ],
   "source": [
    "print(a)"
   ]
  },
  {
   "cell_type": "code",
   "execution_count": 66,
   "id": "f6fb2088",
   "metadata": {},
   "outputs": [
    {
     "name": "stdout",
     "output_type": "stream",
     "text": [
      "23\n"
     ]
    }
   ],
   "source": [
    "print(a.age(2021))"
   ]
  },
  {
   "cell_type": "code",
   "execution_count": 64,
   "id": "419be24c",
   "metadata": {},
   "outputs": [
    {
     "name": "stdout",
     "output_type": "stream",
     "text": [
      "1\n"
     ]
    }
   ],
   "source": [
    "print(a.age(1999))"
   ]
  },
  {
   "cell_type": "code",
   "execution_count": 65,
   "id": "4660174b",
   "metadata": {},
   "outputs": [
    {
     "name": "stdout",
     "output_type": "stream",
     "text": [
      "0\n"
     ]
    }
   ],
   "source": [
    "print(a.age(1998))"
   ]
  },
  {
   "cell_type": "code",
   "execution_count": 75,
   "id": "e7c569dc",
   "metadata": {},
   "outputs": [
    {
     "data": {
      "text/plain": [
       "<__main__.Person at 0x1d652869a90>"
      ]
     },
     "execution_count": 75,
     "metadata": {},
     "output_type": "execute_result"
    }
   ],
   "source": [
    "a"
   ]
  },
  {
   "cell_type": "code",
   "execution_count": 76,
   "id": "d124e1a1",
   "metadata": {},
   "outputs": [
    {
     "name": "stdout",
     "output_type": "stream",
     "text": [
      "Jeya Kumar was born in 1998 .\n"
     ]
    }
   ],
   "source": [
    "print(a)"
   ]
  },
  {
   "cell_type": "code",
   "execution_count": 78,
   "id": "275f0800",
   "metadata": {},
   "outputs": [],
   "source": [
    "class Person:\n",
    "    def __init__(self, name, surname, year_of_birth):\n",
    "        self.name = name\n",
    "        self.surname = surname\n",
    "        self.year_of_birth = year_of_birth\n",
    "        \n",
    "    def age(self, current_year):\n",
    "        return current_year - a.year_of_birth\n",
    "    \n",
    "    def __str__(self): #It will return the same.\n",
    "        return \"Jeya Kumar\""
   ]
  },
  {
   "cell_type": "code",
   "execution_count": 84,
   "id": "c5621899",
   "metadata": {},
   "outputs": [],
   "source": [
    "a = Person('Jeya', 'Kumar', 1998)"
   ]
  },
  {
   "cell_type": "code",
   "execution_count": 85,
   "id": "451219e2",
   "metadata": {},
   "outputs": [
    {
     "data": {
      "text/plain": [
       "<__main__.Person at 0x1d652980220>"
      ]
     },
     "execution_count": 85,
     "metadata": {},
     "output_type": "execute_result"
    }
   ],
   "source": [
    "a"
   ]
  },
  {
   "cell_type": "code",
   "execution_count": 81,
   "id": "2dd301ad",
   "metadata": {},
   "outputs": [
    {
     "name": "stdout",
     "output_type": "stream",
     "text": [
      "Jeya Kumar\n"
     ]
    }
   ],
   "source": [
    "print(a)"
   ]
  },
  {
   "cell_type": "code",
   "execution_count": 82,
   "id": "2a0c963d",
   "metadata": {},
   "outputs": [],
   "source": [
    "class Person:\n",
    "    def __init__(self, name, surname, year_of_birth):\n",
    "        self.name = name\n",
    "        self.surname = surname\n",
    "        self.year_of_birth = year_of_birth\n",
    "        \n",
    "    def age(self, current_year):\n",
    "        return current_year - a.year_of_birth\n",
    "    \n",
    "    def __str__(self): #It will return the same.\n",
    "        return 45"
   ]
  },
  {
   "cell_type": "code",
   "execution_count": 86,
   "id": "71aa4161",
   "metadata": {},
   "outputs": [
    {
     "ename": "TypeError",
     "evalue": "__str__ returned non-string (type int)",
     "output_type": "error",
     "traceback": [
      "\u001b[1;31m---------------------------------------------------------------------------\u001b[0m",
      "\u001b[1;31mTypeError\u001b[0m                                 Traceback (most recent call last)",
      "\u001b[1;32m<ipython-input-86-bca0e2660b9f>\u001b[0m in \u001b[0;36m<module>\u001b[1;34m\u001b[0m\n\u001b[1;32m----> 1\u001b[1;33m \u001b[0mprint\u001b[0m\u001b[1;33m(\u001b[0m\u001b[0ma\u001b[0m\u001b[1;33m)\u001b[0m\u001b[1;33m\u001b[0m\u001b[1;33m\u001b[0m\u001b[0m\n\u001b[0m",
      "\u001b[1;31mTypeError\u001b[0m: __str__ returned non-string (type int)"
     ]
    }
   ],
   "source": [
    "print(a)"
   ]
  },
  {
   "cell_type": "code",
   "execution_count": 87,
   "id": "c92cbd26",
   "metadata": {},
   "outputs": [
    {
     "data": {
      "text/plain": [
       "<bound method Person.age of <__main__.Person object at 0x000001D652980220>>"
      ]
     },
     "execution_count": 87,
     "metadata": {},
     "output_type": "execute_result"
    }
   ],
   "source": [
    "a.age"
   ]
  },
  {
   "cell_type": "code",
   "execution_count": 88,
   "id": "13b6260d",
   "metadata": {},
   "outputs": [
    {
     "ename": "TypeError",
     "evalue": "age() missing 1 required positional argument: 'current_year'",
     "output_type": "error",
     "traceback": [
      "\u001b[1;31m---------------------------------------------------------------------------\u001b[0m",
      "\u001b[1;31mTypeError\u001b[0m                                 Traceback (most recent call last)",
      "\u001b[1;32m<ipython-input-88-d62de9c895a5>\u001b[0m in \u001b[0;36m<module>\u001b[1;34m\u001b[0m\n\u001b[1;32m----> 1\u001b[1;33m \u001b[0ma\u001b[0m\u001b[1;33m.\u001b[0m\u001b[0mage\u001b[0m\u001b[1;33m(\u001b[0m\u001b[1;33m)\u001b[0m\u001b[1;33m\u001b[0m\u001b[1;33m\u001b[0m\u001b[0m\n\u001b[0m",
      "\u001b[1;31mTypeError\u001b[0m: age() missing 1 required positional argument: 'current_year'"
     ]
    }
   ],
   "source": [
    "a.age()"
   ]
  },
  {
   "cell_type": "code",
   "execution_count": 90,
   "id": "6a731549",
   "metadata": {},
   "outputs": [
    {
     "data": {
      "text/plain": [
       "23"
      ]
     },
     "execution_count": 90,
     "metadata": {},
     "output_type": "execute_result"
    }
   ],
   "source": [
    "a.age(2021)"
   ]
  },
  {
   "cell_type": "code",
   "execution_count": 91,
   "id": "e01110fc",
   "metadata": {},
   "outputs": [
    {
     "data": {
      "text/plain": [
       "'Jeya'"
      ]
     },
     "execution_count": 91,
     "metadata": {},
     "output_type": "execute_result"
    }
   ],
   "source": [
    "a.name"
   ]
  },
  {
   "cell_type": "code",
   "execution_count": 92,
   "id": "d1d45e58",
   "metadata": {},
   "outputs": [
    {
     "data": {
      "text/plain": [
       "'Kumar'"
      ]
     },
     "execution_count": 92,
     "metadata": {},
     "output_type": "execute_result"
    }
   ],
   "source": [
    "a.surname"
   ]
  },
  {
   "cell_type": "code",
   "execution_count": 93,
   "id": "b3231107",
   "metadata": {},
   "outputs": [
    {
     "data": {
      "text/plain": [
       "1998"
      ]
     },
     "execution_count": 93,
     "metadata": {},
     "output_type": "execute_result"
    }
   ],
   "source": [
    "a.year_of_birth"
   ]
  },
  {
   "cell_type": "code",
   "execution_count": 105,
   "id": "59ffed7b",
   "metadata": {},
   "outputs": [],
   "source": [
    "class Person:\n",
    "    def __init__(self, name, surname, year_of_birth):\n",
    "        self.name = name\n",
    "        self.surname = surname\n",
    "        self.year_of_birth = year_of_birth\n",
    "        \n",
    "    def age(self, current_year):\n",
    "        return current_year - a.year_of_birth\n",
    "    \n",
    "    def concat(b, list1, list2): #we can create differant pointer like b\n",
    "        return list1+list2\n",
    "    \n",
    "    def __str__(self): #It will return the same.\n",
    "        return \"%s %s was born in %d .\" % (self.name, self.surname, a.year_of_birth)"
   ]
  },
  {
   "cell_type": "code",
   "execution_count": 106,
   "id": "07b5dc24",
   "metadata": {},
   "outputs": [
    {
     "data": {
      "text/plain": [
       "[1, 2, 3, 4, 5, 6, 7, 8, 9, 10]"
      ]
     },
     "execution_count": 106,
     "metadata": {},
     "output_type": "execute_result"
    }
   ],
   "source": [
    "a.concat([1,2,3,4,5,6], [7,8,9,10])"
   ]
  },
  {
   "cell_type": "code",
   "execution_count": 107,
   "id": "70b6235a",
   "metadata": {},
   "outputs": [],
   "source": [
    "class Person:\n",
    "    def __init__(self, name):\n",
    "        self.name = name\n",
    "        \n",
    "    def __init__(self, name, surname):\n",
    "        self.name = name\n",
    "        self.surname = surname\n",
    "        \n",
    "    def __init__(self, name, surname, year_of_birth):\n",
    "        self.name = name\n",
    "        self.surname = surname\n",
    "        self.year_of_birth = year_of_birth\n",
    "        \n",
    "    def age(self, current_year):\n",
    "        return current_year - a.year_of_birth\n",
    "    \n",
    "    def concat(b, list1, list2): #we can create differant pointer like b\n",
    "        return list1+list2\n",
    "    \n",
    "    def __str__(self): #It will return the same.\n",
    "        return \"%s %s was born in %d .\" % (self.name, self.surname, a.year_of_birth)"
   ]
  },
  {
   "cell_type": "code",
   "execution_count": 108,
   "id": "23f9be93",
   "metadata": {},
   "outputs": [
    {
     "data": {
      "text/plain": [
       "[1, 2, 3, 4, 5, 6, 7, 8, 9, 10]"
      ]
     },
     "execution_count": 108,
     "metadata": {},
     "output_type": "execute_result"
    }
   ],
   "source": [
    "a.concat([1,2,3,4,5,6], [7,8,9,10])"
   ]
  },
  {
   "cell_type": "code",
   "execution_count": 109,
   "id": "21f0a404",
   "metadata": {},
   "outputs": [
    {
     "ename": "TypeError",
     "evalue": "__init__() missing 3 required positional arguments: 'name', 'surname', and 'year_of_birth'",
     "output_type": "error",
     "traceback": [
      "\u001b[1;31m---------------------------------------------------------------------------\u001b[0m",
      "\u001b[1;31mTypeError\u001b[0m                                 Traceback (most recent call last)",
      "\u001b[1;32m<ipython-input-109-dc3c175cf780>\u001b[0m in \u001b[0;36m<module>\u001b[1;34m\u001b[0m\n\u001b[1;32m----> 1\u001b[1;33m \u001b[0malec\u001b[0m \u001b[1;33m=\u001b[0m \u001b[0mPerson\u001b[0m\u001b[1;33m(\u001b[0m\u001b[1;33m)\u001b[0m\u001b[1;33m\u001b[0m\u001b[1;33m\u001b[0m\u001b[0m\n\u001b[0m",
      "\u001b[1;31mTypeError\u001b[0m: __init__() missing 3 required positional arguments: 'name', 'surname', and 'year_of_birth'"
     ]
    }
   ],
   "source": [
    "alec = Person()"
   ]
  },
  {
   "cell_type": "code",
   "execution_count": 110,
   "id": "9f2eea06",
   "metadata": {},
   "outputs": [],
   "source": [
    "class Person:\n",
    "    def __init__(self, name, surname, year_of_birth):\n",
    "        self.name = name\n",
    "        self.surname = surname\n",
    "        self.year_of_birth = year_of_birth\n",
    "        \n",
    "    def __init__(self, name):\n",
    "        self.name = name\n",
    "        \n",
    "    def __init__(self, name, surname): #It was looking for last init method\n",
    "        self.name = name\n",
    "        self.surname = surname\n",
    "        \n",
    "    def age(self, current_year):\n",
    "        return current_year - a.year_of_birth\n",
    "    \n",
    "    def concat(b, list1, list2): #we can create differant pointer like b\n",
    "        return list1+list2\n",
    "    \n",
    "    def __str__(self): #It will return the same.\n",
    "        return \"%s %s was born in %d .\" % (self.name, self.surname, a.year_of_birth)"
   ]
  },
  {
   "cell_type": "code",
   "execution_count": 111,
   "id": "cc1c2b56",
   "metadata": {},
   "outputs": [
    {
     "ename": "TypeError",
     "evalue": "__init__() missing 2 required positional arguments: 'name' and 'surname'",
     "output_type": "error",
     "traceback": [
      "\u001b[1;31m---------------------------------------------------------------------------\u001b[0m",
      "\u001b[1;31mTypeError\u001b[0m                                 Traceback (most recent call last)",
      "\u001b[1;32m<ipython-input-111-dc3c175cf780>\u001b[0m in \u001b[0;36m<module>\u001b[1;34m\u001b[0m\n\u001b[1;32m----> 1\u001b[1;33m \u001b[0malec\u001b[0m \u001b[1;33m=\u001b[0m \u001b[0mPerson\u001b[0m\u001b[1;33m(\u001b[0m\u001b[1;33m)\u001b[0m\u001b[1;33m\u001b[0m\u001b[1;33m\u001b[0m\u001b[0m\n\u001b[0m",
      "\u001b[1;31mTypeError\u001b[0m: __init__() missing 2 required positional arguments: 'name' and 'surname'"
     ]
    }
   ],
   "source": [
    "alec = Person()"
   ]
  },
  {
   "cell_type": "code",
   "execution_count": 112,
   "id": "e7f982d4",
   "metadata": {},
   "outputs": [],
   "source": [
    "#Set method\n",
    "class person:\n",
    "\n",
    "    def set_name(self, name):\n",
    "        self.name = name\n",
    "        \n",
    "    def set_surname(self, surname):\n",
    "        self.surname = surname\n",
    "        \n",
    "    def set_year_of_birth(self, year_of_birth):\n",
    "        self.year_of_birth = year_of_birth\n",
    "    \n",
    "    def age(self, current_year):\n",
    "        return current_year - a.year_of_birth\n",
    "    \n",
    "    def concat(b, list1, list2): #we can create differant pointer like b\n",
    "        return list1+list2\n",
    "    \n",
    "    def __str__(self): #It will return the same.\n",
    "        return \"%s %s was born in %d .\" % (self.name, self.surname, a.year_of_birth)"
   ]
  },
  {
   "cell_type": "code",
   "execution_count": 113,
   "id": "cca18000",
   "metadata": {},
   "outputs": [],
   "source": [
    "press = person()"
   ]
  },
  {
   "cell_type": "code",
   "execution_count": 114,
   "id": "93b18026",
   "metadata": {},
   "outputs": [
    {
     "ename": "AttributeError",
     "evalue": "'person' object has no attribute 'name'",
     "output_type": "error",
     "traceback": [
      "\u001b[1;31m---------------------------------------------------------------------------\u001b[0m",
      "\u001b[1;31mAttributeError\u001b[0m                            Traceback (most recent call last)",
      "\u001b[1;32m<ipython-input-114-cd5fd08e988a>\u001b[0m in \u001b[0;36m<module>\u001b[1;34m\u001b[0m\n\u001b[1;32m----> 1\u001b[1;33m \u001b[0mpress\u001b[0m\u001b[1;33m.\u001b[0m\u001b[0mname\u001b[0m\u001b[1;33m\u001b[0m\u001b[1;33m\u001b[0m\u001b[0m\n\u001b[0m",
      "\u001b[1;31mAttributeError\u001b[0m: 'person' object has no attribute 'name'"
     ]
    }
   ],
   "source": [
    "press.name"
   ]
  },
  {
   "cell_type": "code",
   "execution_count": 115,
   "id": "55e058f4",
   "metadata": {},
   "outputs": [],
   "source": [
    "press = person()\n",
    "press.set_name('Jeya')"
   ]
  },
  {
   "cell_type": "code",
   "execution_count": 117,
   "id": "02908d87",
   "metadata": {},
   "outputs": [
    {
     "data": {
      "text/plain": [
       "'Jeya'"
      ]
     },
     "execution_count": 117,
     "metadata": {},
     "output_type": "execute_result"
    }
   ],
   "source": [
    "press.name"
   ]
  },
  {
   "cell_type": "code",
   "execution_count": 118,
   "id": "b23e7dc7",
   "metadata": {},
   "outputs": [
    {
     "ename": "AttributeError",
     "evalue": "'person' object has no attribute 'surname'",
     "output_type": "error",
     "traceback": [
      "\u001b[1;31m---------------------------------------------------------------------------\u001b[0m",
      "\u001b[1;31mAttributeError\u001b[0m                            Traceback (most recent call last)",
      "\u001b[1;32m<ipython-input-118-c965dfa117f3>\u001b[0m in \u001b[0;36m<module>\u001b[1;34m\u001b[0m\n\u001b[1;32m----> 1\u001b[1;33m \u001b[0mpress\u001b[0m\u001b[1;33m.\u001b[0m\u001b[0msurname\u001b[0m\u001b[1;33m\u001b[0m\u001b[1;33m\u001b[0m\u001b[0m\n\u001b[0m",
      "\u001b[1;31mAttributeError\u001b[0m: 'person' object has no attribute 'surname'"
     ]
    }
   ],
   "source": [
    "press.surname #we have to set the data to get the output"
   ]
  },
  {
   "cell_type": "code",
   "execution_count": 119,
   "id": "acf2f8d6",
   "metadata": {},
   "outputs": [],
   "source": [
    "press.set_surname('Kumar')"
   ]
  },
  {
   "cell_type": "code",
   "execution_count": 120,
   "id": "9bab0106",
   "metadata": {},
   "outputs": [
    {
     "data": {
      "text/plain": [
       "'Kumar'"
      ]
     },
     "execution_count": 120,
     "metadata": {},
     "output_type": "execute_result"
    }
   ],
   "source": [
    "press.surname"
   ]
  },
  {
   "cell_type": "code",
   "execution_count": null,
   "id": "f37b6505",
   "metadata": {},
   "outputs": [],
   "source": []
  }
 ],
 "metadata": {
  "kernelspec": {
   "display_name": "Python 3",
   "language": "python",
   "name": "python3"
  },
  "language_info": {
   "codemirror_mode": {
    "name": "ipython",
    "version": 3
   },
   "file_extension": ".py",
   "mimetype": "text/x-python",
   "name": "python",
   "nbconvert_exporter": "python",
   "pygments_lexer": "ipython3",
   "version": "3.9.5"
  }
 },
 "nbformat": 4,
 "nbformat_minor": 5
}
