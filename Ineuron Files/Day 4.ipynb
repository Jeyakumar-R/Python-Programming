{
 "cells": [
  {
   "cell_type": "code",
   "execution_count": 1,
   "id": "f35cdcc8",
   "metadata": {},
   "outputs": [],
   "source": [
    "def test(a, b = 1):\n",
    "    return a+b"
   ]
  },
  {
   "cell_type": "code",
   "execution_count": 2,
   "id": "656745e4",
   "metadata": {},
   "outputs": [
    {
     "data": {
      "text/plain": [
       "4"
      ]
     },
     "execution_count": 2,
     "metadata": {},
     "output_type": "execute_result"
    }
   ],
   "source": [
    "test(3)"
   ]
  },
  {
   "cell_type": "code",
   "execution_count": 3,
   "id": "506fce0e",
   "metadata": {},
   "outputs": [
    {
     "data": {
      "text/plain": [
       "8"
      ]
     },
     "execution_count": 3,
     "metadata": {},
     "output_type": "execute_result"
    }
   ],
   "source": [
    "test(3,5)"
   ]
  },
  {
   "cell_type": "code",
   "execution_count": 4,
   "id": "8392c7e5",
   "metadata": {},
   "outputs": [],
   "source": [
    "def ooo(a,n,m,b=1):\n",
    "    return a + b"
   ]
  },
  {
   "cell_type": "code",
   "execution_count": 5,
   "id": "59606281",
   "metadata": {},
   "outputs": [
    {
     "data": {
      "text/plain": [
       "11"
      ]
     },
     "execution_count": 5,
     "metadata": {},
     "output_type": "execute_result"
    }
   ],
   "source": [
    "ooo(10,40,50)"
   ]
  },
  {
   "cell_type": "code",
   "execution_count": 8,
   "id": "8223465e",
   "metadata": {},
   "outputs": [],
   "source": [
    "def modify_list(a):\n",
    "    l = []\n",
    "    if type(a) == list:\n",
    "        for i in a:\n",
    "            l = print(i+4)\n",
    "    return l\n",
    "            "
   ]
  },
  {
   "cell_type": "code",
   "execution_count": 9,
   "id": "a64bf7b4",
   "metadata": {},
   "outputs": [
    {
     "name": "stdout",
     "output_type": "stream",
     "text": [
      "5\n",
      "6\n",
      "7\n",
      "8\n",
      "9\n",
      "10\n",
      "11\n",
      "12\n",
      "13\n"
     ]
    }
   ],
   "source": [
    "modify_list([1,2,3,4,5,6,7,8,9])"
   ]
  },
  {
   "cell_type": "code",
   "execution_count": 16,
   "id": "b8d35612",
   "metadata": {},
   "outputs": [],
   "source": [
    "def modify_list(a):\n",
    "    l = []\n",
    "    if type(a) == list:\n",
    "        for i in a:\n",
    "            l.append(i+4)\n",
    "    else:\n",
    "        print(\"input is not a list\")\n",
    "    return l"
   ]
  },
  {
   "cell_type": "code",
   "execution_count": 17,
   "id": "d57a24cc",
   "metadata": {},
   "outputs": [
    {
     "data": {
      "text/plain": [
       "[5, 6, 7, 8, 9, 10, 11, 12, 13]"
      ]
     },
     "execution_count": 17,
     "metadata": {},
     "output_type": "execute_result"
    }
   ],
   "source": [
    "modify_list([1,2,3,4,5,6,7,8,9])"
   ]
  },
  {
   "cell_type": "code",
   "execution_count": 18,
   "id": "d84c2cb0",
   "metadata": {},
   "outputs": [
    {
     "name": "stdout",
     "output_type": "stream",
     "text": [
      "input is not a list\n"
     ]
    },
    {
     "data": {
      "text/plain": [
       "[]"
      ]
     },
     "execution_count": 18,
     "metadata": {},
     "output_type": "execute_result"
    }
   ],
   "source": [
    "modify_list(\"jeya\")"
   ]
  },
  {
   "cell_type": "code",
   "execution_count": 25,
   "id": "f08e3374",
   "metadata": {},
   "outputs": [],
   "source": [
    "def greeting(name):\n",
    "    print(\"Hello %s\" %name)"
   ]
  },
  {
   "cell_type": "code",
   "execution_count": 26,
   "id": "9e665d92",
   "metadata": {},
   "outputs": [
    {
     "name": "stdout",
     "output_type": "stream",
     "text": [
      "Hello jeya\n"
     ]
    }
   ],
   "source": [
    "greeting(\"jeya\")"
   ]
  },
  {
   "cell_type": "code",
   "execution_count": 66,
   "id": "ae8c48f9",
   "metadata": {},
   "outputs": [],
   "source": [
    "def is_prime(a):\n",
    "    for i in range(2,a):\n",
    "        if a%i == 0:\n",
    "            print(\"not prime\")\n",
    "            break\n",
    "            \n",
    "    else:\n",
    "        print(\"prime\")"
   ]
  },
  {
   "cell_type": "code",
   "execution_count": 67,
   "id": "bbcac058",
   "metadata": {},
   "outputs": [
    {
     "name": "stdout",
     "output_type": "stream",
     "text": [
      "not prime\n"
     ]
    }
   ],
   "source": [
    "is_prime(45)"
   ]
  },
  {
   "cell_type": "code",
   "execution_count": 60,
   "id": "e843f971",
   "metadata": {},
   "outputs": [],
   "source": [
    "def factor(n):\n",
    "    flist = []\n",
    "    for i in range(1,n+1):\n",
    "        if n%i == 0:\n",
    "            flist = flist + [i]\n",
    "    return(flist)"
   ]
  },
  {
   "cell_type": "code",
   "execution_count": 61,
   "id": "3ad9f4ba",
   "metadata": {},
   "outputs": [
    {
     "data": {
      "text/plain": [
       "[1, 2, 5, 10]"
      ]
     },
     "execution_count": 61,
     "metadata": {},
     "output_type": "execute_result"
    }
   ],
   "source": [
    "factor(10)"
   ]
  },
  {
   "cell_type": "code",
   "execution_count": 75,
   "id": "2089b256",
   "metadata": {},
   "outputs": [],
   "source": [
    "def isprime(n):\n",
    "    return (factor(n) == [1,n])"
   ]
  },
  {
   "cell_type": "code",
   "execution_count": 76,
   "id": "efc3aa97",
   "metadata": {},
   "outputs": [
    {
     "data": {
      "text/plain": [
       "True"
      ]
     },
     "execution_count": 76,
     "metadata": {},
     "output_type": "execute_result"
    }
   ],
   "source": [
    "isprime(5)"
   ]
  },
  {
   "cell_type": "code",
   "execution_count": 77,
   "id": "3db93a80",
   "metadata": {},
   "outputs": [],
   "source": [
    "def nprimes(n):\n",
    "    (count,i,plist) = (0,1,[])\n",
    "    while(count < n):\n",
    "        if isprime(n):\n",
    "            (count,plist) = (count+1,plist+[i])\n",
    "        i = i+1\n",
    "    return(plist)\n"
   ]
  },
  {
   "cell_type": "code",
   "execution_count": 78,
   "id": "7b949c86",
   "metadata": {},
   "outputs": [
    {
     "data": {
      "text/plain": [
       "[1, 2, 3, 4, 5]"
      ]
     },
     "execution_count": 78,
     "metadata": {},
     "output_type": "execute_result"
    }
   ],
   "source": [
    "nprimes(5)"
   ]
  },
  {
   "cell_type": "code",
   "execution_count": 88,
   "id": "f76fbece",
   "metadata": {},
   "outputs": [],
   "source": [
    "def iss(n):\n",
    "    for i in range(2,n):\n",
    "        if n%i == 0:\n",
    "            print(\"not prime\")\n",
    "            break\n",
    "    else:\n",
    "        print(\"prime\")"
   ]
  },
  {
   "cell_type": "code",
   "execution_count": 89,
   "id": "e53bae36",
   "metadata": {},
   "outputs": [
    {
     "name": "stdout",
     "output_type": "stream",
     "text": [
      "prime\n"
     ]
    }
   ],
   "source": [
    "iss(5)"
   ]
  },
  {
   "cell_type": "code",
   "execution_count": 90,
   "id": "1cba4b6a",
   "metadata": {},
   "outputs": [
    {
     "name": "stdout",
     "output_type": "stream",
     "text": [
      "not prime\n"
     ]
    }
   ],
   "source": [
    "iss(4)"
   ]
  },
  {
   "cell_type": "code",
   "execution_count": 98,
   "id": "ea50b91c",
   "metadata": {},
   "outputs": [],
   "source": [
    "import math\n",
    "\n",
    "def pri(n):\n",
    "    if n % 2 == 0 and n > 2: #check for even number\n",
    "        return False\n",
    "    for i in range(3, int(math.sqrt(n)) + 1, 2): #check for odd number\n",
    "        if num % i == 0:\n",
    "            return False\n",
    "    return True\n",
    "        "
   ]
  },
  {
   "cell_type": "code",
   "execution_count": 100,
   "id": "13b79b4a",
   "metadata": {},
   "outputs": [
    {
     "data": {
      "text/plain": [
       "False"
      ]
     },
     "execution_count": 100,
     "metadata": {},
     "output_type": "execute_result"
    }
   ],
   "source": [
    "pri(4)"
   ]
  },
  {
   "cell_type": "code",
   "execution_count": 106,
   "id": "070a3474",
   "metadata": {},
   "outputs": [
    {
     "name": "stderr",
     "output_type": "stream",
     "text": [
      "ERROR: Could not find a version that satisfies the requirement time (from versions: none)\n",
      "ERROR: No matching distribution found for time\n"
     ]
    }
   ],
   "source": [
    "!pip install time"
   ]
  },
  {
   "cell_type": "code",
   "execution_count": 105,
   "id": "a7230d1b",
   "metadata": {},
   "outputs": [
    {
     "ename": "SyntaxError",
     "evalue": "unexpected character after line continuation character (<ipython-input-105-233f9d2edbf4>, line 1)",
     "output_type": "error",
     "traceback": [
      "\u001b[1;36m  File \u001b[1;32m\"<ipython-input-105-233f9d2edbf4>\"\u001b[1;36m, line \u001b[1;32m1\u001b[0m\n\u001b[1;33m    c:\\users\\jeya kumar r\\appdata\\local\\programs\\python\\python39\\python.exe -m pip install --upgrade pip\u001b[0m\n\u001b[1;37m                                                                                                       ^\u001b[0m\n\u001b[1;31mSyntaxError\u001b[0m\u001b[1;31m:\u001b[0m unexpected character after line continuation character\n"
     ]
    }
   ],
   "source": [
    "c:\\users\\jeya kumar r\\appdata\\local\\programs\\python\\python39\\python.exe -m pip install --upgrade pip"
   ]
  },
  {
   "cell_type": "code",
   "execution_count": 107,
   "id": "2f4d5585",
   "metadata": {},
   "outputs": [
    {
     "name": "stdout",
     "output_type": "stream",
     "text": [
      "Total prime numbers in range : 9592\n",
      "Time required : 51.441237688064575\n"
     ]
    }
   ],
   "source": [
    "# Python Program to find prime numbers in a range\n",
    "import time\n",
    "def is_prime(n):\n",
    "\tif n <= 1:\n",
    "\t\treturn False\n",
    "\tfor i in range(2,n):\n",
    "\t\tif n % i == 0:\n",
    "\t\t\treturn False\n",
    "\treturn True\n",
    "\n",
    "# Driver function\n",
    "t0 = time.time()\n",
    "c = 0 #for counting\n",
    "\n",
    "for n in range(1,100000):\n",
    "\tx = is_prime(n)\n",
    "\tc += x\n",
    "print(\"Total prime numbers in range :\", c)\n",
    "\n",
    "t1 = time.time()\n",
    "print(\"Time required :\", t1 - t0)\n"
   ]
  },
  {
   "cell_type": "code",
   "execution_count": 108,
   "id": "3e847ddb",
   "metadata": {},
   "outputs": [
    {
     "name": "stdout",
     "output_type": "stream",
     "text": [
      "Total prime numbers in range : 9592\n",
      "Time required : 0.3439669609069824\n"
     ]
    }
   ],
   "source": [
    "# Python Program to find prime numbers in a range\n",
    "import math\n",
    "import time\n",
    "def is_prime(n):\n",
    "\tif n <= 1:\n",
    "\t\treturn False\n",
    "\n",
    "\tmax_div = math.floor(math.sqrt(n))\n",
    "\tfor i in range(2, 1 + max_div):\n",
    "\t\tif n % i == 0:\n",
    "\t\t\treturn False\n",
    "\treturn True\n",
    "\n",
    "# Driver function\n",
    "t0 = time.time()\n",
    "c = 0 #for counting\n",
    "\n",
    "for n in range(1,100000):\n",
    "\tx = is_prime(n)\n",
    "\tc += x\n",
    "print(\"Total prime numbers in range :\", c)\n",
    "\n",
    "t1 = time.time()\n",
    "print(\"Time required :\", t1 - t0)\n"
   ]
  },
  {
   "cell_type": "code",
   "execution_count": 109,
   "id": "c38a0350",
   "metadata": {},
   "outputs": [
    {
     "data": {
      "text/plain": [
       "range(0, 9)"
      ]
     },
     "execution_count": 109,
     "metadata": {},
     "output_type": "execute_result"
    }
   ],
   "source": [
    "range(9)"
   ]
  },
  {
   "cell_type": "code",
   "execution_count": 110,
   "id": "0a60c710",
   "metadata": {},
   "outputs": [
    {
     "data": {
      "text/plain": [
       "[0, 1, 2, 3, 4, 5, 6, 7, 8]"
      ]
     },
     "execution_count": 110,
     "metadata": {},
     "output_type": "execute_result"
    }
   ],
   "source": [
    "list(range(9))"
   ]
  },
  {
   "cell_type": "code",
   "execution_count": 113,
   "id": "19041b7c",
   "metadata": {},
   "outputs": [],
   "source": [
    "def gencube(n):\n",
    "    for i in range(n):\n",
    "        print(i**3)"
   ]
  },
  {
   "cell_type": "code",
   "execution_count": 114,
   "id": "347d23e1",
   "metadata": {},
   "outputs": [
    {
     "name": "stdout",
     "output_type": "stream",
     "text": [
      "0\n",
      "1\n",
      "8\n"
     ]
    }
   ],
   "source": [
    "gencube(3)"
   ]
  },
  {
   "cell_type": "code",
   "execution_count": 117,
   "id": "7f6b45ec",
   "metadata": {},
   "outputs": [],
   "source": [
    "def cube(n):\n",
    "    for i in range(n):\n",
    "        return n**3"
   ]
  },
  {
   "cell_type": "code",
   "execution_count": 118,
   "id": "7ea2e2de",
   "metadata": {},
   "outputs": [
    {
     "data": {
      "text/plain": [
       "27"
      ]
     },
     "execution_count": 118,
     "metadata": {},
     "output_type": "execute_result"
    }
   ],
   "source": [
    "cube(3)"
   ]
  },
  {
   "cell_type": "code",
   "execution_count": 122,
   "id": "225207b5",
   "metadata": {},
   "outputs": [],
   "source": [
    "#Generator function for the cube of numbers (power of n)\n",
    "def cu(n):\n",
    "    for i in range(n):\n",
    "        yield i**3"
   ]
  },
  {
   "cell_type": "code",
   "execution_count": 123,
   "id": "f65444ba",
   "metadata": {},
   "outputs": [
    {
     "data": {
      "text/plain": [
       "<generator object cu at 0x000001C3F0938890>"
      ]
     },
     "execution_count": 123,
     "metadata": {},
     "output_type": "execute_result"
    }
   ],
   "source": [
    "cu(3)"
   ]
  },
  {
   "cell_type": "code",
   "execution_count": 124,
   "id": "62a878f9",
   "metadata": {},
   "outputs": [
    {
     "name": "stdout",
     "output_type": "stream",
     "text": [
      "0\n",
      "1\n",
      "8\n"
     ]
    }
   ],
   "source": [
    "for x in cu(3):\n",
    "    print(x)"
   ]
  },
  {
   "cell_type": "code",
   "execution_count": 125,
   "id": "0a2494e3",
   "metadata": {},
   "outputs": [
    {
     "data": {
      "text/plain": [
       "[0, 1, 8, 27, 64, 125, 216, 343, 512, 729]"
      ]
     },
     "execution_count": 125,
     "metadata": {},
     "output_type": "execute_result"
    }
   ],
   "source": [
    "list(cu(10))"
   ]
  },
  {
   "cell_type": "code",
   "execution_count": 126,
   "id": "90552721",
   "metadata": {},
   "outputs": [
    {
     "ename": "TypeError",
     "evalue": "'str' object is not an iterator",
     "output_type": "error",
     "traceback": [
      "\u001b[1;31m---------------------------------------------------------------------------\u001b[0m",
      "\u001b[1;31mTypeError\u001b[0m                                 Traceback (most recent call last)",
      "\u001b[1;32m<ipython-input-126-db504c7a9443>\u001b[0m in \u001b[0;36m<module>\u001b[1;34m\u001b[0m\n\u001b[1;32m----> 1\u001b[1;33m \u001b[0mnext\u001b[0m\u001b[1;33m(\u001b[0m\u001b[1;34m\"jeya\"\u001b[0m\u001b[1;33m)\u001b[0m\u001b[1;33m\u001b[0m\u001b[1;33m\u001b[0m\u001b[0m\n\u001b[0m",
      "\u001b[1;31mTypeError\u001b[0m: 'str' object is not an iterator"
     ]
    }
   ],
   "source": [
    "next(\"jeya\")"
   ]
  },
  {
   "cell_type": "code",
   "execution_count": 127,
   "id": "63f8f20d",
   "metadata": {},
   "outputs": [
    {
     "ename": "TypeError",
     "evalue": "'int' object is not an iterator",
     "output_type": "error",
     "traceback": [
      "\u001b[1;31m---------------------------------------------------------------------------\u001b[0m",
      "\u001b[1;31mTypeError\u001b[0m                                 Traceback (most recent call last)",
      "\u001b[1;32m<ipython-input-127-474cc0349a7a>\u001b[0m in \u001b[0;36m<module>\u001b[1;34m\u001b[0m\n\u001b[1;32m----> 1\u001b[1;33m \u001b[0mnext\u001b[0m\u001b[1;33m(\u001b[0m\u001b[1;36m45\u001b[0m\u001b[1;33m)\u001b[0m\u001b[1;33m\u001b[0m\u001b[1;33m\u001b[0m\u001b[0m\n\u001b[0m",
      "\u001b[1;31mTypeError\u001b[0m: 'int' object is not an iterator"
     ]
    }
   ],
   "source": [
    "next(45)"
   ]
  },
  {
   "cell_type": "code",
   "execution_count": 128,
   "id": "a5746d8f",
   "metadata": {},
   "outputs": [
    {
     "ename": "TypeError",
     "evalue": "'int' object is not iterable",
     "output_type": "error",
     "traceback": [
      "\u001b[1;31m---------------------------------------------------------------------------\u001b[0m",
      "\u001b[1;31mTypeError\u001b[0m                                 Traceback (most recent call last)",
      "\u001b[1;32m<ipython-input-128-e34ee8f40559>\u001b[0m in \u001b[0;36m<module>\u001b[1;34m\u001b[0m\n\u001b[1;32m----> 1\u001b[1;33m \u001b[0miter\u001b[0m\u001b[1;33m(\u001b[0m\u001b[1;36m34\u001b[0m\u001b[1;33m)\u001b[0m\u001b[1;33m\u001b[0m\u001b[1;33m\u001b[0m\u001b[0m\n\u001b[0m",
      "\u001b[1;31mTypeError\u001b[0m: 'int' object is not iterable"
     ]
    }
   ],
   "source": [
    "iter(34)"
   ]
  },
  {
   "cell_type": "code",
   "execution_count": 129,
   "id": "b7ee5479",
   "metadata": {},
   "outputs": [
    {
     "data": {
      "text/plain": [
       "<str_iterator at 0x1c3f0916730>"
      ]
     },
     "execution_count": 129,
     "metadata": {},
     "output_type": "execute_result"
    }
   ],
   "source": [
    "iter(\"jeya\")"
   ]
  },
  {
   "cell_type": "code",
   "execution_count": 14,
   "id": "3e36df42",
   "metadata": {},
   "outputs": [],
   "source": [
    "def cub(n):\n",
    "    for i in range(n):\n",
    "        yield i**3"
   ]
  },
  {
   "cell_type": "code",
   "execution_count": 15,
   "id": "bc304716",
   "metadata": {},
   "outputs": [],
   "source": [
    "a = cub(10)"
   ]
  },
  {
   "cell_type": "code",
   "execution_count": 23,
   "id": "ce8a3f44",
   "metadata": {},
   "outputs": [
    {
     "data": {
      "text/plain": [
       "125"
      ]
     },
     "execution_count": 23,
     "metadata": {},
     "output_type": "execute_result"
    }
   ],
   "source": [
    "next(a)"
   ]
  },
  {
   "cell_type": "code",
   "execution_count": 24,
   "id": "085e3bd5",
   "metadata": {},
   "outputs": [],
   "source": [
    "def fibon(n):\n",
    "    a = 1\n",
    "    b = 1\n",
    "    for i in range(n):\n",
    "        yield a \n",
    "        a,b = b, a+b"
   ]
  },
  {
   "cell_type": "code",
   "execution_count": 25,
   "id": "5868b716",
   "metadata": {},
   "outputs": [
    {
     "name": "stdout",
     "output_type": "stream",
     "text": [
      "1\n",
      "1\n",
      "2\n",
      "3\n",
      "5\n",
      "8\n",
      "13\n",
      "21\n",
      "34\n",
      "55\n"
     ]
    }
   ],
   "source": [
    "for i in fibon(10):\n",
    "    print(i)"
   ]
  },
  {
   "cell_type": "code",
   "execution_count": 26,
   "id": "28a7161e",
   "metadata": {},
   "outputs": [],
   "source": [
    "def fib(n):\n",
    "    a = 1\n",
    "    b = 1\n",
    "    \n",
    "    output = []\n",
    "    \n",
    "    for i in range(n):\n",
    "        output.append(a)\n",
    "        a,b = b, a+b\n",
    "    return output"
   ]
  },
  {
   "cell_type": "code",
   "execution_count": 27,
   "id": "a86da8fe",
   "metadata": {},
   "outputs": [
    {
     "data": {
      "text/plain": [
       "[1, 1, 2, 3, 5, 8, 13, 21, 34, 55]"
      ]
     },
     "execution_count": 27,
     "metadata": {},
     "output_type": "execute_result"
    }
   ],
   "source": [
    "fib(10)"
   ]
  },
  {
   "cell_type": "code",
   "execution_count": 1,
   "id": "9d4867f4",
   "metadata": {},
   "outputs": [],
   "source": [
    "#map fn"
   ]
  },
  {
   "cell_type": "code",
   "execution_count": 7,
   "id": "3dc2331c",
   "metadata": {},
   "outputs": [],
   "source": [
    "def fah(e):\n",
    "    return ((float(9)/5)*e + 32)"
   ]
  },
  {
   "cell_type": "code",
   "execution_count": 8,
   "id": "c27d4ae7",
   "metadata": {},
   "outputs": [],
   "source": [
    "def cel(f):\n",
    "    return(float(5)/9)*(f-32)"
   ]
  },
  {
   "cell_type": "code",
   "execution_count": 9,
   "id": "7ced1090",
   "metadata": {},
   "outputs": [],
   "source": [
    "temp = [0, 22.5, 40, 100]"
   ]
  },
  {
   "cell_type": "code",
   "execution_count": 12,
   "id": "8dc1b050",
   "metadata": {},
   "outputs": [],
   "source": [
    "l = []\n",
    "\n",
    "for i in temp:\n",
    "    l.append(fah(i))"
   ]
  },
  {
   "cell_type": "code",
   "execution_count": 13,
   "id": "455de20e",
   "metadata": {},
   "outputs": [
    {
     "data": {
      "text/plain": [
       "[32.0, 72.5, 104.0, 212.0]"
      ]
     },
     "execution_count": 13,
     "metadata": {},
     "output_type": "execute_result"
    }
   ],
   "source": [
    "l"
   ]
  },
  {
   "cell_type": "code",
   "execution_count": 14,
   "id": "0e46d707",
   "metadata": {},
   "outputs": [],
   "source": [
    "  fah_temp = list(map(fah, temp))"
   ]
  },
  {
   "cell_type": "code",
   "execution_count": 15,
   "id": "1ea1fd37",
   "metadata": {},
   "outputs": [
    {
     "data": {
      "text/plain": [
       "[32.0, 72.5, 104.0, 212.0]"
      ]
     },
     "execution_count": 15,
     "metadata": {},
     "output_type": "execute_result"
    }
   ],
   "source": [
    "fah_temp"
   ]
  },
  {
   "cell_type": "code",
   "execution_count": 16,
   "id": "eff69be7",
   "metadata": {},
   "outputs": [],
   "source": [
    "  cal_temp = list(map(cel, temp))"
   ]
  },
  {
   "cell_type": "code",
   "execution_count": 17,
   "id": "9d7bc051",
   "metadata": {},
   "outputs": [
    {
     "data": {
      "text/plain": [
       "[-17.77777777777778, -5.277777777777778, 4.444444444444445, 37.77777777777778]"
      ]
     },
     "execution_count": 17,
     "metadata": {},
     "output_type": "execute_result"
    }
   ],
   "source": [
    "cal_temp"
   ]
  },
  {
   "cell_type": "code",
   "execution_count": 19,
   "id": "72b64ce8",
   "metadata": {},
   "outputs": [
    {
     "data": {
      "text/plain": [
       "[32768.0, 381078.125, 1124864.0, 9528128.0]"
      ]
     },
     "execution_count": 19,
     "metadata": {},
     "output_type": "execute_result"
    }
   ],
   "source": [
    "#using lambda or it is also a anonymous fn\n",
    "\n",
    "list(map(lambda x : x**3,l))"
   ]
  },
  {
   "cell_type": "code",
   "execution_count": 20,
   "id": "1f171fc5",
   "metadata": {},
   "outputs": [],
   "source": [
    "a = [1,2,3,4]\n",
    "b = [5,6,7,8]\n",
    "c = [9,10,11,12,4,5]\n",
    "\n",
    "def total(x,y,z):\n",
    "    return x+y+z"
   ]
  },
  {
   "cell_type": "code",
   "execution_count": 21,
   "id": "178aa87e",
   "metadata": {},
   "outputs": [
    {
     "data": {
      "text/plain": [
       "[15, 18, 21, 24]"
      ]
     },
     "execution_count": 21,
     "metadata": {},
     "output_type": "execute_result"
    }
   ],
   "source": [
    "list(map(total,a,b,c))"
   ]
  },
  {
   "cell_type": "code",
   "execution_count": 22,
   "id": "ceecc112",
   "metadata": {},
   "outputs": [
    {
     "data": {
      "text/plain": [
       "[15, 18, 21, 24]"
      ]
     },
     "execution_count": 22,
     "metadata": {},
     "output_type": "execute_result"
    }
   ],
   "source": [
    "list(map(lambda x, y ,z : x+y+z, a,b,c))"
   ]
  },
  {
   "cell_type": "code",
   "execution_count": 23,
   "id": "81a61fd8",
   "metadata": {},
   "outputs": [],
   "source": [
    "#reduce"
   ]
  },
  {
   "cell_type": "code",
   "execution_count": 24,
   "id": "574ba0e3",
   "metadata": {},
   "outputs": [],
   "source": [
    "from functools import reduce"
   ]
  },
  {
   "cell_type": "code",
   "execution_count": 25,
   "id": "5831144a",
   "metadata": {},
   "outputs": [],
   "source": [
    "l = [34,56,42,75,87,97]"
   ]
  },
  {
   "cell_type": "code",
   "execution_count": 26,
   "id": "4b101e68",
   "metadata": {},
   "outputs": [],
   "source": [
    "def summation(a,b):\n",
    "    return a+b"
   ]
  },
  {
   "cell_type": "code",
   "execution_count": 27,
   "id": "841fc78d",
   "metadata": {},
   "outputs": [
    {
     "data": {
      "text/plain": [
       "391"
      ]
     },
     "execution_count": 27,
     "metadata": {},
     "output_type": "execute_result"
    }
   ],
   "source": [
    "reduce(summation,l)"
   ]
  },
  {
   "cell_type": "code",
   "execution_count": 31,
   "id": "d1cecafa",
   "metadata": {},
   "outputs": [],
   "source": [
    "lst = ['jeya', ' kumar', ' MSC DA']"
   ]
  },
  {
   "cell_type": "code",
   "execution_count": 32,
   "id": "37c83765",
   "metadata": {},
   "outputs": [
    {
     "data": {
      "text/plain": [
       "'jeya kumar MSC DA'"
      ]
     },
     "execution_count": 32,
     "metadata": {},
     "output_type": "execute_result"
    }
   ],
   "source": [
    "reduce(lambda a,b: a+b,lst)"
   ]
  },
  {
   "cell_type": "code",
   "execution_count": 33,
   "id": "0a8230c2",
   "metadata": {},
   "outputs": [],
   "source": [
    "#find the max of a sequence\n",
    "\n",
    "max_find = lambda a,b:a if (a>b) else b"
   ]
  },
  {
   "cell_type": "code",
   "execution_count": 34,
   "id": "bf6df9a2",
   "metadata": {},
   "outputs": [],
   "source": [
    "lt = [45,34,67,23]"
   ]
  },
  {
   "cell_type": "code",
   "execution_count": 35,
   "id": "12789175",
   "metadata": {},
   "outputs": [
    {
     "data": {
      "text/plain": [
       "67"
      ]
     },
     "execution_count": 35,
     "metadata": {},
     "output_type": "execute_result"
    }
   ],
   "source": [
    "reduce(max_find, lt)"
   ]
  },
  {
   "cell_type": "code",
   "execution_count": null,
   "id": "aaa3acc4",
   "metadata": {},
   "outputs": [],
   "source": []
  }
 ],
 "metadata": {
  "kernelspec": {
   "display_name": "Python 3",
   "language": "python",
   "name": "python3"
  },
  "language_info": {
   "codemirror_mode": {
    "name": "ipython",
    "version": 3
   },
   "file_extension": ".py",
   "mimetype": "text/x-python",
   "name": "python",
   "nbconvert_exporter": "python",
   "pygments_lexer": "ipython3",
   "version": "3.9.5"
  }
 },
 "nbformat": 4,
 "nbformat_minor": 5
}
