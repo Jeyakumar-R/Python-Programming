{
 "cells": [
  {
   "cell_type": "code",
   "execution_count": 6,
   "id": "fcf93fe5",
   "metadata": {},
   "outputs": [
    {
     "data": {
      "text/plain": [
       "list"
      ]
     },
     "execution_count": 6,
     "metadata": {},
     "output_type": "execute_result"
    }
   ],
   "source": [
    "k = ['jeya', 'kumar', 2,3,4,5]\n",
    "type(k)"
   ]
  },
  {
   "cell_type": "code",
   "execution_count": 7,
   "id": "dee6435d",
   "metadata": {},
   "outputs": [
    {
     "data": {
      "text/plain": [
       "['jeya', 'kumar', 2, 3, 4, 5]"
      ]
     },
     "execution_count": 7,
     "metadata": {},
     "output_type": "execute_result"
    }
   ],
   "source": [
    "k"
   ]
  },
  {
   "cell_type": "code",
   "execution_count": 2,
   "id": "b6f81bd5",
   "metadata": {},
   "outputs": [
    {
     "data": {
      "text/plain": [
       "list"
      ]
     },
     "execution_count": 2,
     "metadata": {},
     "output_type": "execute_result"
    }
   ],
   "source": [
    "m = list()\n",
    "type(m)"
   ]
  },
  {
   "cell_type": "code",
   "execution_count": 3,
   "id": "4653f406",
   "metadata": {},
   "outputs": [
    {
     "data": {
      "text/plain": [
       "['j', 'e', 'y', 'a']"
      ]
     },
     "execution_count": 3,
     "metadata": {},
     "output_type": "execute_result"
    }
   ],
   "source": [
    "m = list(\"jeya\")\n",
    "m"
   ]
  },
  {
   "cell_type": "code",
   "execution_count": 4,
   "id": "373aa7de",
   "metadata": {},
   "outputs": [],
   "source": [
    "m = list([\"jeya\", \"kumar\"])"
   ]
  },
  {
   "cell_type": "code",
   "execution_count": 5,
   "id": "bb163185",
   "metadata": {},
   "outputs": [
    {
     "data": {
      "text/plain": [
       "['jeya', 'kumar']"
      ]
     },
     "execution_count": 5,
     "metadata": {},
     "output_type": "execute_result"
    }
   ],
   "source": [
    "m"
   ]
  },
  {
   "cell_type": "code",
   "execution_count": 36,
   "id": "07bc7ff8",
   "metadata": {},
   "outputs": [],
   "source": [
    "list = ([['jeya', ' kumar'], 'jeya', 'uhefdd', ['xyz', 'jdf','34'],77,45])\n",
    "l = list"
   ]
  },
  {
   "cell_type": "code",
   "execution_count": 37,
   "id": "e29f0fea",
   "metadata": {},
   "outputs": [
    {
     "data": {
      "text/plain": [
       "[['jeya', ' kumar'], 'jeya', 'uhefdd', ['xyz', 'jdf', '34'], 77, 45]"
      ]
     },
     "execution_count": 37,
     "metadata": {},
     "output_type": "execute_result"
    }
   ],
   "source": [
    "l "
   ]
  },
  {
   "cell_type": "code",
   "execution_count": 27,
   "id": "a9130b19",
   "metadata": {},
   "outputs": [
    {
     "name": "stdout",
     "output_type": "stream",
     "text": [
      "['jeya', ' kumar']\n",
      "jeya\n",
      "uhefdd\n",
      "['xyz', 'jdf', 34]\n"
     ]
    }
   ],
   "source": [
    "m = []\n",
    "for i in l:\n",
    "    print(i)"
   ]
  },
  {
   "cell_type": "code",
   "execution_count": 28,
   "id": "7ffb2d9d",
   "metadata": {},
   "outputs": [],
   "source": [
    "m = []\n",
    "for i in l:\n",
    "    m.append(i[::-1])"
   ]
  },
  {
   "cell_type": "code",
   "execution_count": 29,
   "id": "17c78e59",
   "metadata": {},
   "outputs": [
    {
     "data": {
      "text/plain": [
       "[[' kumar', 'jeya'], 'ayej', 'ddfehu', [34, 'jdf', 'xyz']]"
      ]
     },
     "execution_count": 29,
     "metadata": {},
     "output_type": "execute_result"
    }
   ],
   "source": [
    "m"
   ]
  },
  {
   "cell_type": "code",
   "execution_count": 1,
   "id": "ca585dc1",
   "metadata": {},
   "outputs": [],
   "source": [
    "l = ('dff',344,34,55,'dfdsa','def',45)"
   ]
  },
  {
   "cell_type": "code",
   "execution_count": 6,
   "id": "585d177e",
   "metadata": {},
   "outputs": [],
   "source": [
    "m = []\n",
    "for i in l:\n",
    "    if type(i) == str:\n",
    "        m.append(i)"
   ]
  },
  {
   "cell_type": "code",
   "execution_count": 7,
   "id": "c6a36fa6",
   "metadata": {},
   "outputs": [
    {
     "data": {
      "text/plain": [
       "['dff', 'dfdsa', 'def']"
      ]
     },
     "execution_count": 7,
     "metadata": {},
     "output_type": "execute_result"
    }
   ],
   "source": [
    "m"
   ]
  },
  {
   "cell_type": "code",
   "execution_count": 4,
   "id": "392c318f",
   "metadata": {},
   "outputs": [
    {
     "data": {
      "text/plain": [
       "'je'"
      ]
     },
     "execution_count": 4,
     "metadata": {},
     "output_type": "execute_result"
    }
   ],
   "source": [
    "j = \"jeya\"\n",
    "j[0:2]"
   ]
  },
  {
   "cell_type": "code",
   "execution_count": 5,
   "id": "efa5680d",
   "metadata": {},
   "outputs": [
    {
     "name": "stdout",
     "output_type": "stream",
     "text": [
      "j\n",
      "e\n",
      "y\n",
      "a\n"
     ]
    }
   ],
   "source": [
    "for i in j:\n",
    "    print(i)"
   ]
  },
  {
   "cell_type": "code",
   "execution_count": 8,
   "id": "835ce5d7",
   "metadata": {},
   "outputs": [
    {
     "name": "stdout",
     "output_type": "stream",
     "text": [
      "ffd\n",
      "asdfd\n",
      "fed\n"
     ]
    }
   ],
   "source": [
    "m = []\n",
    "for i in l:\n",
    "    if type(i) == str:\n",
    "        print(i[::-1])"
   ]
  },
  {
   "cell_type": "code",
   "execution_count": 9,
   "id": "0edd7dff",
   "metadata": {},
   "outputs": [
    {
     "name": "stdout",
     "output_type": "stream",
     "text": [
      "['abc', 'xyz', 'kumar']\n"
     ]
    }
   ],
   "source": [
    "for i in [1,2,3,\"jeya\",[\"kumar\",\"xyz\",\"abc\"]]:\n",
    "    if type(i) == list:\n",
    "        print(i[::-1])"
   ]
  },
  {
   "cell_type": "code",
   "execution_count": 11,
   "id": "207597bf",
   "metadata": {},
   "outputs": [],
   "source": [
    "m = []\n",
    "for i in [1,2,3,\"jeya\",[\"kumar\",\"xyz\",\"abc\"]]:\n",
    "    if type(i) == list:\n",
    "        for j in i[::-1]:\n",
    "            m.append(j[::-1])\n",
    "            "
   ]
  },
  {
   "cell_type": "code",
   "execution_count": 12,
   "id": "2cb66457",
   "metadata": {},
   "outputs": [
    {
     "data": {
      "text/plain": [
       "['cba', 'zyx', 'ramuk']"
      ]
     },
     "execution_count": 12,
     "metadata": {},
     "output_type": "execute_result"
    }
   ],
   "source": [
    "m"
   ]
  },
  {
   "cell_type": "code",
   "execution_count": 1,
   "id": "fd415174",
   "metadata": {},
   "outputs": [
    {
     "name": "stdout",
     "output_type": "stream",
     "text": [
      "j\te\ty\ta\t"
     ]
    }
   ],
   "source": [
    "for i in \"jeya\":\n",
    "    print(i,end = '\\t')"
   ]
  },
  {
   "cell_type": "code",
   "execution_count": 2,
   "id": "7dc84e1d",
   "metadata": {},
   "outputs": [
    {
     "name": "stdout",
     "output_type": "stream",
     "text": [
      "j e y a "
     ]
    }
   ],
   "source": [
    "for i in \"jeya\":\n",
    "    print(i,end = ' ')"
   ]
  },
  {
   "cell_type": "code",
   "execution_count": 4,
   "id": "6f182661",
   "metadata": {},
   "outputs": [
    {
     "name": "stdout",
     "output_type": "stream",
     "text": [
      "jeya\n",
      "jkl\n"
     ]
    }
   ],
   "source": [
    "l = [\"jeya\", \"kumar\", \"jkl\", \"lkj\"]\n",
    "\n",
    "for i in range(0,4,2):\n",
    "    print(l[i])"
   ]
  },
  {
   "cell_type": "code",
   "execution_count": 5,
   "id": "055a09db",
   "metadata": {},
   "outputs": [
    {
     "data": {
      "text/plain": [
       "[44, 6, -3, 'jeya']"
      ]
     },
     "execution_count": 5,
     "metadata": {},
     "output_type": "execute_result"
    }
   ],
   "source": [
    "k = [44,6,-3]\n",
    "k.append(\"jeya\")\n",
    "k"
   ]
  },
  {
   "cell_type": "code",
   "execution_count": 6,
   "id": "53ab15c7",
   "metadata": {},
   "outputs": [
    {
     "name": "stdout",
     "output_type": "stream",
     "text": [
      "45\n"
     ]
    }
   ],
   "source": [
    "num = [1,2,3,4,5,6,7,8,9,0]\n",
    "\n",
    "sum = 0 \n",
    "for val in num:\n",
    "    sum = sum+val\n",
    "print(sum)"
   ]
  },
  {
   "cell_type": "code",
   "execution_count": 1,
   "id": "4d7f58a5",
   "metadata": {},
   "outputs": [
    {
     "name": "stdout",
     "output_type": "stream",
     "text": [
      "55\n"
     ]
    }
   ],
   "source": [
    "n = 10\n",
    "sum = 0\n",
    "i = 1\n",
    "\n",
    "while i <=10:\n",
    "    sum = sum + i\n",
    "    i = i+1\n",
    "print(sum)"
   ]
  },
  {
   "cell_type": "code",
   "execution_count": 2,
   "id": "c55b07dd",
   "metadata": {},
   "outputs": [
    {
     "data": {
      "text/plain": [
       "range(0, 10)"
      ]
     },
     "execution_count": 2,
     "metadata": {},
     "output_type": "execute_result"
    }
   ],
   "source": [
    "range(10)"
   ]
  },
  {
   "cell_type": "code",
   "execution_count": 3,
   "id": "cea6f20a",
   "metadata": {},
   "outputs": [
    {
     "name": "stdout",
     "output_type": "stream",
     "text": [
      "0\n",
      "1\n",
      "2\n",
      "3\n",
      "4\n",
      "5\n",
      "6\n",
      "7\n",
      "8\n",
      "9\n"
     ]
    }
   ],
   "source": [
    "for i in range(10):\n",
    "    print(i)"
   ]
  },
  {
   "cell_type": "code",
   "execution_count": 4,
   "id": "7985776b",
   "metadata": {},
   "outputs": [
    {
     "data": {
      "text/plain": [
       "[0, 1, 2, 3, 4, 5, 6, 7, 8, 9]"
      ]
     },
     "execution_count": 4,
     "metadata": {},
     "output_type": "execute_result"
    }
   ],
   "source": [
    "list(range(10))"
   ]
  },
  {
   "cell_type": "code",
   "execution_count": 15,
   "id": "d064c839",
   "metadata": {},
   "outputs": [
    {
     "name": "stdout",
     "output_type": "stream",
     "text": [
      "[67, 3, 'abc', 'sudh']\n"
     ]
    }
   ],
   "source": [
    "m = []\n",
    "l = [\"sudh\",\"kumar\",\"abc\",\"xyz\",3,56,67]\n",
    "for i in range(len(l)-1,-1,-2):\n",
    "    m.append(l[i])\n",
    "print(m)"
   ]
  },
  {
   "cell_type": "code",
   "execution_count": 16,
   "id": "acc0dec4",
   "metadata": {},
   "outputs": [
    {
     "name": "stdout",
     "output_type": "stream",
     "text": [
      "j\n",
      "e\n",
      "y\n",
      "a\n",
      "end\n"
     ]
    }
   ],
   "source": [
    "for i in \"jeyakumar\":\n",
    "    if  i == 'k':\n",
    "        break\n",
    "    print(i)\n",
    "else:\n",
    "    print(\"print after this for loop\")\n",
    "print(\"end\")"
   ]
  },
  {
   "cell_type": "code",
   "execution_count": 17,
   "id": "6570f8b9",
   "metadata": {},
   "outputs": [
    {
     "name": "stdout",
     "output_type": "stream",
     "text": [
      "j\n",
      "e\n",
      "y\n",
      "a\n",
      "u\n",
      "m\n",
      "a\n",
      "r\n",
      "print after this for loop\n",
      "end\n"
     ]
    }
   ],
   "source": [
    "for i in \"jeyakumar\":\n",
    "    if i == 'k':\n",
    "        continue\n",
    "    print(i)\n",
    "else:\n",
    "    print(\"print after this for loop\")\n",
    "print(\"end\")"
   ]
  },
  {
   "cell_type": "code",
   "execution_count": 18,
   "id": "9e8dfac5",
   "metadata": {},
   "outputs": [
    {
     "name": "stdout",
     "output_type": "stream",
     "text": [
      "jeyakumar\n"
     ]
    },
    {
     "data": {
      "text/plain": [
       "'jeyakumar'"
      ]
     },
     "execution_count": 18,
     "metadata": {},
     "output_type": "execute_result"
    }
   ],
   "source": [
    "input()"
   ]
  },
  {
   "cell_type": "code",
   "execution_count": 19,
   "id": "218134b0",
   "metadata": {},
   "outputs": [
    {
     "name": "stdout",
     "output_type": "stream",
     "text": [
      "345\n"
     ]
    },
    {
     "data": {
      "text/plain": [
       "str"
      ]
     },
     "execution_count": 19,
     "metadata": {},
     "output_type": "execute_result"
    }
   ],
   "source": [
    "type(input())"
   ]
  },
  {
   "cell_type": "code",
   "execution_count": 25,
   "id": "42fb9cea",
   "metadata": {},
   "outputs": [
    {
     "name": "stdout",
     "output_type": "stream",
     "text": [
      "12345\n"
     ]
    },
    {
     "data": {
      "text/plain": [
       "int"
      ]
     },
     "execution_count": 25,
     "metadata": {},
     "output_type": "execute_result"
    }
   ],
   "source": [
    "type(int(input()))"
   ]
  },
  {
   "cell_type": "code",
   "execution_count": null,
   "id": "f4200860",
   "metadata": {},
   "outputs": [],
   "source": []
  }
 ],
 "metadata": {
  "kernelspec": {
   "display_name": "Python 3",
   "language": "python",
   "name": "python3"
  },
  "language_info": {
   "codemirror_mode": {
    "name": "ipython",
    "version": 3
   },
   "file_extension": ".py",
   "mimetype": "text/x-python",
   "name": "python",
   "nbconvert_exporter": "python",
   "pygments_lexer": "ipython3",
   "version": "3.9.5"
  }
 },
 "nbformat": 4,
 "nbformat_minor": 5
}
