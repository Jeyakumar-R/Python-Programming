{
 "cells": [
  {
   "cell_type": "code",
   "execution_count": 1,
   "id": "ee690f28",
   "metadata": {},
   "outputs": [
    {
     "data": {
      "text/plain": [
       "'C:\\\\Users\\\\JEYA KUMAR R\\\\Documents\\\\Ineuron Files'"
      ]
     },
     "execution_count": 1,
     "metadata": {},
     "output_type": "execute_result"
    }
   ],
   "source": [
    "pwd"
   ]
  },
  {
   "cell_type": "code",
   "execution_count": 2,
   "id": "09db43e0",
   "metadata": {},
   "outputs": [],
   "source": [
    "i = 10"
   ]
  },
  {
   "cell_type": "code",
   "execution_count": 3,
   "id": "3dc8fd35",
   "metadata": {},
   "outputs": [
    {
     "data": {
      "text/plain": [
       "int"
      ]
     },
     "execution_count": 3,
     "metadata": {},
     "output_type": "execute_result"
    }
   ],
   "source": [
    "type(i)"
   ]
  },
  {
   "cell_type": "code",
   "execution_count": 4,
   "id": "dba87942",
   "metadata": {},
   "outputs": [],
   "source": [
    "i = 1+5j"
   ]
  },
  {
   "cell_type": "code",
   "execution_count": 5,
   "id": "9335d033",
   "metadata": {},
   "outputs": [
    {
     "data": {
      "text/plain": [
       "complex"
      ]
     },
     "execution_count": 5,
     "metadata": {},
     "output_type": "execute_result"
    }
   ],
   "source": [
    "type(i)"
   ]
  },
  {
   "cell_type": "code",
   "execution_count": 6,
   "id": "10305d79",
   "metadata": {},
   "outputs": [
    {
     "data": {
      "text/plain": [
       "5.0"
      ]
     },
     "execution_count": 6,
     "metadata": {},
     "output_type": "execute_result"
    }
   ],
   "source": [
    "i.imag"
   ]
  },
  {
   "cell_type": "code",
   "execution_count": 8,
   "id": "b6d8602f",
   "metadata": {},
   "outputs": [
    {
     "data": {
      "text/plain": [
       "1.0"
      ]
     },
     "execution_count": 8,
     "metadata": {},
     "output_type": "execute_result"
    }
   ],
   "source": [
    "i.real"
   ]
  },
  {
   "cell_type": "code",
   "execution_count": 9,
   "id": "d92ac7c0",
   "metadata": {},
   "outputs": [
    {
     "data": {
      "text/plain": [
       "<function complex.conjugate>"
      ]
     },
     "execution_count": 9,
     "metadata": {},
     "output_type": "execute_result"
    }
   ],
   "source": [
    "i.conjugate"
   ]
  },
  {
   "cell_type": "code",
   "execution_count": 10,
   "id": "79dbe8d0",
   "metadata": {},
   "outputs": [
    {
     "name": "stdout",
     "output_type": "stream",
     "text": [
      "(1+5j)\n"
     ]
    }
   ],
   "source": [
    "print(i)"
   ]
  },
  {
   "cell_type": "code",
   "execution_count": 11,
   "id": "317f7d90",
   "metadata": {},
   "outputs": [
    {
     "data": {
      "text/plain": [
       "'1994jeyakumar'"
      ]
     },
     "execution_count": 11,
     "metadata": {},
     "output_type": "execute_result"
    }
   ],
   "source": [
    "str(1994)+\"jeya\"+\"kumar\""
   ]
  },
  {
   "cell_type": "code",
   "execution_count": 12,
   "id": "a0c27368",
   "metadata": {},
   "outputs": [
    {
     "data": {
      "text/plain": [
       "'jeyajeyajeyajeyajeyajeyajeyajeyajeyajeya'"
      ]
     },
     "execution_count": 12,
     "metadata": {},
     "output_type": "execute_result"
    }
   ],
   "source": [
    "\"jeya\"*10"
   ]
  },
  {
   "cell_type": "code",
   "execution_count": 13,
   "id": "a4c323c4",
   "metadata": {},
   "outputs": [
    {
     "data": {
      "text/plain": [
       "240"
      ]
     },
     "execution_count": 13,
     "metadata": {},
     "output_type": "execute_result"
    }
   ],
   "source": [
    "5*48"
   ]
  },
  {
   "cell_type": "code",
   "execution_count": 14,
   "id": "365c81ac",
   "metadata": {},
   "outputs": [
    {
     "data": {
      "text/plain": [
       "3125"
      ]
     },
     "execution_count": 14,
     "metadata": {},
     "output_type": "execute_result"
    }
   ],
   "source": [
    "5**5"
   ]
  },
  {
   "cell_type": "code",
   "execution_count": 16,
   "id": "d76a7959",
   "metadata": {},
   "outputs": [
    {
     "data": {
      "text/plain": [
       "16"
      ]
     },
     "execution_count": 16,
     "metadata": {},
     "output_type": "execute_result"
    }
   ],
   "source": [
    "4**2"
   ]
  },
  {
   "cell_type": "code",
   "execution_count": 18,
   "id": "cc3785fa",
   "metadata": {},
   "outputs": [],
   "source": [
    "i = 9\n",
    "if i == 10:\n",
    "    pass"
   ]
  },
  {
   "cell_type": "code",
   "execution_count": 20,
   "id": "67c9520d",
   "metadata": {},
   "outputs": [
    {
     "data": {
      "text/plain": [
       "True"
      ]
     },
     "execution_count": 20,
     "metadata": {},
     "output_type": "execute_result"
    }
   ],
   "source": []
  },
  {
   "cell_type": "code",
   "execution_count": 4,
   "id": "8465e325",
   "metadata": {},
   "outputs": [
    {
     "data": {
      "text/plain": [
       "<function str.count>"
      ]
     },
     "execution_count": 4,
     "metadata": {},
     "output_type": "execute_result"
    }
   ],
   "source": [
    "i = \"jeya\"\n",
    "\n",
    "i.count"
   ]
  },
  {
   "cell_type": "code",
   "execution_count": 5,
   "id": "374eeb93",
   "metadata": {},
   "outputs": [
    {
     "name": "stdout",
     "output_type": "stream",
     "text": [
      "jeya\n"
     ]
    }
   ],
   "source": [
    "print(i)"
   ]
  },
  {
   "cell_type": "code",
   "execution_count": 6,
   "id": "da89636d",
   "metadata": {},
   "outputs": [],
   "source": [
    "p = [\"jeya\", \"kumar\", 56, 78, 9.5, 5+7j]"
   ]
  },
  {
   "cell_type": "code",
   "execution_count": 11,
   "id": "a43c0315",
   "metadata": {},
   "outputs": [
    {
     "name": "stdout",
     "output_type": "stream",
     "text": [
      "jeya\n",
      "kumar\n"
     ]
    }
   ],
   "source": [
    "for i in p:\n",
    "    if type(i) == str:\n",
    "        print(i)"
   ]
  },
  {
   "cell_type": "code",
   "execution_count": 13,
   "id": "37874020",
   "metadata": {},
   "outputs": [
    {
     "name": "stdout",
     "output_type": "stream",
     "text": [
      "['jeya']\n",
      "['jeya', 'kumar']\n",
      "['jeya', 'kumar']\n",
      "['jeya', 'kumar']\n",
      "['jeya', 'kumar']\n",
      "['jeya', 'kumar']\n"
     ]
    }
   ],
   "source": [
    "b = []\n",
    "for i in p:\n",
    "    if type(i) == str:\n",
    "        b.append(i)\n",
    "    print(b)"
   ]
  },
  {
   "cell_type": "code",
   "execution_count": 14,
   "id": "beb0a1ea",
   "metadata": {},
   "outputs": [
    {
     "name": "stdout",
     "output_type": "stream",
     "text": [
      "['jeya', 'kumar']\n"
     ]
    }
   ],
   "source": [
    "b = []\n",
    "for i in p:\n",
    "    if type(i) == str:\n",
    "        b.append(i)\n",
    "print(b)"
   ]
  },
  {
   "cell_type": "code",
   "execution_count": 15,
   "id": "eb2cf7d6",
   "metadata": {},
   "outputs": [
    {
     "name": "stdout",
     "output_type": "stream",
     "text": [
      "complex\n"
     ]
    }
   ],
   "source": [
    "i = 3+5j\n",
    "j = type(i)\n",
    "if j == complex:\n",
    "    print(\"complex\")\n",
    "else:\n",
    "    print(\"Not complex\")"
   ]
  },
  {
   "cell_type": "code",
   "execution_count": null,
   "id": "c49196ae",
   "metadata": {},
   "outputs": [],
   "source": []
  }
 ],
 "metadata": {
  "kernelspec": {
   "display_name": "Python 3",
   "language": "python",
   "name": "python3"
  },
  "language_info": {
   "codemirror_mode": {
    "name": "ipython",
    "version": 3
   },
   "file_extension": ".py",
   "mimetype": "text/x-python",
   "name": "python",
   "nbconvert_exporter": "python",
   "pygments_lexer": "ipython3",
   "version": "3.9.5"
  }
 },
 "nbformat": 4,
 "nbformat_minor": 5
}
