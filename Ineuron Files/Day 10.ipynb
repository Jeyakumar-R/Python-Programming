{
 "cells": [
  {
   "cell_type": "code",
   "execution_count": 1,
   "id": "75cdca94",
   "metadata": {},
   "outputs": [
    {
     "name": "stdout",
     "output_type": "stream",
     "text": [
      "True\n"
     ]
    }
   ],
   "source": [
    "import mysql.connector as connection\n",
    "import pandas as pd\n",
    "\n",
    "\n",
    "try:\n",
    "    mydb = connection.connect(host = \"localhost\", user = \"root\", passwd = \"root\", use_pure = True) #ip address 127.0.0.1\n",
    "    print(mydb.is_connected())\n",
    "    mydb.close()\n",
    "except Exception as e:\n",
    "    print(str(e))"
   ]
  },
  {
   "cell_type": "code",
   "execution_count": 2,
   "id": "62223cab",
   "metadata": {},
   "outputs": [
    {
     "name": "stdout",
     "output_type": "stream",
     "text": [
      "[('information_schema',), ('mysql',), ('performance_schema',), ('sakila',), ('sys',), ('world',)]\n"
     ]
    }
   ],
   "source": [
    "import mysql.connector as connection\n",
    "\n",
    "try:\n",
    "    mydb = connection.connect(host = \"localhost\", user = \"root\", passwd = \"root\", use_pure = True) \n",
    "    \n",
    "    query = \"SHOW DATABASES\"\n",
    "    \n",
    "    cursor = mydb.cursor() #create a cursor to execute queries\n",
    "    cursor.execute(query)\n",
    "    print(cursor.fetchall())\n",
    "    \n",
    "except Exception as e:\n",
    "    mydb.close()\n",
    "    print(str(e))"
   ]
  },
  {
   "cell_type": "code",
   "execution_count": 3,
   "id": "82d0fae4",
   "metadata": {},
   "outputs": [
    {
     "name": "stdout",
     "output_type": "stream",
     "text": [
      "True\n",
      "Database Created!!\n"
     ]
    }
   ],
   "source": [
    "import mysql.connector as connection\n",
    "\n",
    "try:\n",
    "    mydb = connection.connect(host = \"localhost\", user = \"root\", passwd = \"root\", use_pure = True) \n",
    "    print(mydb.is_connected())\n",
    "    \n",
    "    query = \"create database Student;\"\n",
    "    \n",
    "    cursor = mydb.cursor() #create a cursor to execute queries\n",
    "    cursor.execute(query)\n",
    "    print(\"Database Created!!\")\n",
    "    mydb.close()\n",
    "    \n",
    "except Exception as e:\n",
    "    mydb.close()\n",
    "    print(str(e))"
   ]
  },
  {
   "cell_type": "code",
   "execution_count": 14,
   "id": "43ed1ef8",
   "metadata": {},
   "outputs": [
    {
     "name": "stdout",
     "output_type": "stream",
     "text": [
      "True\n",
      "Table Created!!\n"
     ]
    }
   ],
   "source": [
    "import mysql.connector as connection\n",
    "\n",
    "try:\n",
    "    mydb = connection.connect(host = \"localhost\", database = 'Student', user = \"root\", passwd = \"root\", use_pure = True) \n",
    "    print(mydb.is_connected())\n",
    "    \n",
    "    query = \"create table StudentDetails (ID INT(10), FirstName VARCHAR(60), LastName VARCHAR(60), RegistrationDate DATE, Class VARCHAR(20), Sec VARCHAR(10))\"\n",
    "\n",
    "    \n",
    "    cursor = mydb.cursor() #create a cursor to execute queries\n",
    "    cursor.execute(query)\n",
    "    print(\"Table Created!!\")\n",
    "    mydb.close()\n",
    "    \n",
    "except Exception as e:\n",
    "    mydb.close()\n",
    "    print(str(e))"
   ]
  },
  {
   "cell_type": "code",
   "execution_count": 19,
   "id": "66dda86c",
   "metadata": {},
   "outputs": [
    {
     "name": "stdout",
     "output_type": "stream",
     "text": [
      "True\n",
      "Value inserted into the Table!!\n"
     ]
    }
   ],
   "source": [
    "import mysql.connector as connection\n",
    "\n",
    "try:\n",
    "    mydb = connection.connect(host = \"localhost\", database = 'Student', user = \"root\", passwd = \"root\", use_pure = True) \n",
    "    print(mydb.is_connected())\n",
    "    \n",
    "    query = \"INSERT INTO StudentDetails VALUES ('123', 'Jeya', 'Kumar', '1998-09-04', 'Eleventh', 'A')\"\n",
    "\n",
    "    \n",
    "    cursor = mydb.cursor() #create a cursor to execute queries\n",
    "    cursor.execute(query)\n",
    "    print(\"Value inserted into the Table!!\")\n",
    "    mydb.commit()\n",
    "    mydb.close()\n",
    "    \n",
    "except Exception as e:\n",
    "    mydb.close()\n",
    "    print(str(e))"
   ]
  },
  {
   "cell_type": "code",
   "execution_count": null,
   "id": "c8c801fd",
   "metadata": {},
   "outputs": [],
   "source": []
  }
 ],
 "metadata": {
  "kernelspec": {
   "display_name": "Python 3",
   "language": "python",
   "name": "python3"
  },
  "language_info": {
   "codemirror_mode": {
    "name": "ipython",
    "version": 3
   },
   "file_extension": ".py",
   "mimetype": "text/x-python",
   "name": "python",
   "nbconvert_exporter": "python",
   "pygments_lexer": "ipython3",
   "version": "3.9.5"
  }
 },
 "nbformat": 4,
 "nbformat_minor": 5
}
